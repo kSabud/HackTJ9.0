{
  "cells": [
    {
      "cell_type": "code",
      "execution_count": 4,
      "metadata": {
        "colab": {
          "base_uri": "https://localhost:8080/"
        },
        "id": "Km1iZwoqvcOr",
        "outputId": "61c76e69-21c6-401a-8a25-8a87106cceee"
      },
      "outputs": [
        {
          "output_type": "stream",
          "name": "stdout",
          "text": [
            "--2022-04-17 00:15:48--  https://storage.googleapis.com/inspirit-ai-data-bucket-1/Data/Deep%20Dives/malaria_images.zip\n",
            "Resolving storage.googleapis.com (storage.googleapis.com)... 173.194.215.128, 173.194.216.128, 173.194.217.128, ...\n",
            "Connecting to storage.googleapis.com (storage.googleapis.com)|173.194.215.128|:443... connected.\n",
            "HTTP request sent, awaiting response... 200 OK\n",
            "Length: 353755287 (337M) [application/zip]\n",
            "Saving to: ‘malaria_images.zip.4’\n",
            "\n",
            "malaria_images.zip. 100%[===================>] 337.37M   222MB/s    in 1.5s    \n",
            "\n",
            "2022-04-17 00:15:50 (222 MB/s) - ‘malaria_images.zip.4’ saved [353755287/353755287]\n",
            "\n",
            "Archive:  malaria_images.zip\n",
            "replace malaria_images/Parasitized/C100P61ThinF_IMG_20150918_144104_cell_162.png? [y]es, [n]o, [A]ll, [N]one, [r]ename: Downloaded Data\n"
          ]
        },
        {
          "output_type": "stream",
          "name": "stderr",
          "text": [
            "100%|██████████| 3000/3000 [00:04<00:00, 679.08it/s]\n",
            "100%|██████████| 3000/3000 [00:03<00:00, 986.81it/s]"
          ]
        },
        {
          "output_type": "stream",
          "name": "stdout",
          "text": [
            "Created our X and y variables\n"
          ]
        },
        {
          "output_type": "stream",
          "name": "stderr",
          "text": [
            "\n"
          ]
        }
      ],
      "source": [
        "#@title Run this to prepare our libraries and data! { display-mode: \"form\" } \n",
        "\n",
        "# networking\n",
        "!pip -q install pyngrok\n",
        "!pip -q install streamlit\n",
        "!pip -q install patool\n",
        "\n",
        "import cv2\n",
        "import gdown\n",
        "import glob\n",
        "import matplotlib\n",
        "import matplotlib.pyplot as plt\n",
        "import numpy as np\n",
        "import os\n",
        "import patoolib\n",
        "\n",
        "from joblib import dump\n",
        "from pyngrok import ngrok\n",
        "from tqdm import tqdm\n",
        "\n",
        "from sklearn.decomposition import PCA\n",
        "from sklearn.model_selection import train_test_split\n",
        "from sklearn.svm import SVC\n",
        "\n",
        "DATA_ROOT = '/content'\n",
        "os.makedirs(DATA_ROOT, exist_ok=True)\n",
        "max_samples = 3000\n",
        "\n",
        "blood_slide_url = 'https://drive.google.com/uc?id=1lffxAG8gykh1dh1pCP34uRkH3XMwuNt-'\n",
        "blood_slide_path = os.path.join(DATA_ROOT, 'blood_slide.jpg')\n",
        "gdown.download(blood_slide_url, blood_slide_path, True)\n",
        "\n",
        "!wget \"https://storage.googleapis.com/inspirit-ai-data-bucket-1/Data/Deep%20Dives/malaria_images.zip\"\n",
        "!unzip \"malaria_images.zip\"\n",
        "malaria_imgs_path = os.path.join(DATA_ROOT, 'malaria_images.zip')\n",
        "\n",
        "print(\"Downloaded Data\")\n",
        "\n",
        "u_malaria_img_paths = glob.glob('/content/malaria_images/Uninfected/*png')\n",
        "p_malaria_img_paths = glob.glob('/content/malaria_images/Parasitized/*png')\n",
        "\n",
        "NUM_SAMPLES = len(u_malaria_img_paths) + len(p_malaria_img_paths)\n",
        "\n",
        "X = []\n",
        "y = []\n",
        "\n",
        "X_g = []\n",
        "\n",
        "for i in tqdm(range(max_samples)):\n",
        "  img = cv2.imread(u_malaria_img_paths[i])\n",
        "  X.append(cv2.resize(img,(50,50)))\n",
        "\n",
        "  gray_img = cv2.imread(u_malaria_img_paths[i],0)\n",
        "  X_g.append(cv2.resize(gray_img,(50,50)))\n",
        "\n",
        "  y.append(0)\n",
        "\n",
        "for i in tqdm(range(max_samples)):\n",
        "  img = cv2.imread(p_malaria_img_paths[i])\n",
        "  X.append(cv2.resize(img,(50,50)))\n",
        "\n",
        "  gray_img = cv2.imread(p_malaria_img_paths[i],0)\n",
        "  X_g.append(cv2.resize(gray_img,(50,50)))\n",
        "\n",
        "  y.append(1)\n",
        "\n",
        "X = np.stack(X)\n",
        "X_g = np.stack(X_g)\n",
        "X_reshaped = np.reshape(X_g,(X_g.shape[0],2500))\n",
        "\n",
        "y = np.array(y)\n",
        "\n",
        "blood_samples_dir = 'blood_samples'\n",
        "if (os.path.exists(blood_samples_dir) == False):\n",
        "  os.mkdir(blood_samples_dir)\n",
        "\n",
        "for i, img in enumerate(X[2995:3005]):\n",
        "  plt.imsave('test_img_{}.jpg'.format(i), img)\n",
        "  \n",
        "print(\"Created our X and y variables\")\n"
      ]
    },
    {
      "cell_type": "code",
      "execution_count": 5,
      "metadata": {
        "colab": {
          "base_uri": "https://localhost:8080/"
        },
        "id": "XdhHhVcokz3_",
        "outputId": "f8585f00-9694-4d4c-d039-2eefbe658bea"
      },
      "outputs": [
        {
          "output_type": "stream",
          "name": "stdout",
          "text": [
            "0.6984848484848485\n"
          ]
        }
      ],
      "source": [
        "X_train, X_test, y_train, y_test = train_test_split(X_reshaped, y, test_size = 0.33)\n",
        "model = SVC()\n",
        "model.fit(X_train, y_train)\n",
        "print(model.score(X_test, y_test))"
      ]
    },
    {
      "cell_type": "code",
      "source": [
        "dump(model, \"model.joblib\")"
      ],
      "metadata": {
        "colab": {
          "base_uri": "https://localhost:8080/"
        },
        "id": "-6w7jZ895glS",
        "outputId": "2fa7774c-e043-40f3-ca54-856dee8d712e"
      },
      "execution_count": 9,
      "outputs": [
        {
          "output_type": "execute_result",
          "data": {
            "text/plain": [
              "['model.joblib']"
            ]
          },
          "metadata": {},
          "execution_count": 9
        }
      ]
    },
    {
      "cell_type": "code",
      "execution_count": 51,
      "metadata": {
        "id": "DfPCiQm5rQ1u",
        "colab": {
          "base_uri": "https://localhost:8080/"
        },
        "outputId": "6b67ebae-8ebe-425c-aed2-244e64526238"
      },
      "outputs": [
        {
          "output_type": "stream",
          "name": "stdout",
          "text": [
            "Overwriting app.py\n"
          ]
        }
      ],
      "source": [
        "%%writefile app.py\n",
        "import streamlit as st\n",
        "from joblib import load #reads the pre-isting model file\n",
        "import numpy as np\n",
        "import cv2\n",
        "\n",
        "st.title('Malaria Classification') #Change the title here!\n",
        "\n",
        "st.image(\"\"\"data:image/jpeg;base64,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\"\"\")\n",
        "\n",
        "with st.container():\n",
        "  st.subheader(\"First lets understand what Malaria is\")\n",
        "  st.caption(\"\"\" Malaria is an intermittent and remittent fever caused by a protozoan parasite that invades the red blood cells. \n",
        "  The parasite is transmitted by mosquitoes in many tropical and subtropical regions.\"\"\")\n",
        "  st.subheader(\"Now lets see what we can do for you\")\n",
        "  st.caption(\"\"\" You can upload a file containing a scan of your red blood cells and we can quickly quickly classify it as malaria infected or not \"\"\")\n",
        "    \n",
        "uploaded_file = st.file_uploader(\"Upload image for classification\")\n",
        "  \n",
        "model = load(\"model.joblib\")\n",
        "\n",
        "\n",
        "if uploaded_file is not None:    \n",
        "    file_bytes = np.asarray(bytearray(uploaded_file.read()), dtype=np.uint8)\n",
        "    image = cv2.imdecode(file_bytes, 1) \n",
        "    st.image(image, caption=\"Input Image\", channels=\"BGR\")\n",
        "    small = cv2.resize(image, (50,50)) #YOUR CODE HERE: specify image, dimensions\n",
        "    gray = cv2.cvtColor(small, cv2.COLOR_BGR2GRAY)\n",
        "    st.image(gray, caption=\"Gray Image\")\n",
        "    flattened = np.reshape(gray, (1, 2500))\n",
        "    prediction = model.predict(flattened)\n",
        "    if(prediction[0] == 1):\n",
        "      st.write(\"You have Malaria.\")\n",
        "      with st.expander(\"Do you want to learn more about the necessary procedures to take?\"):\n",
        "        st.write(\"\"\"\n",
        "          Here are some helpfull links to seek medical attention\n",
        "          and what procedure to aquire.\n",
        "\n",
        "          https://www.cdc.gov/malaria/about/faqs.html\n",
        "          https://www.cdc.gov/malaria/diagnosis_treatment/clinicians1.html \n",
        "          \n",
        "        \"\"\")\n",
        "    else:\n",
        "      st.write(\"You don't have Malaria.\")\n",
        "      "
      ]
    },
    {
      "cell_type": "code",
      "source": [
        "!ngrok authtoken 26IDZr3qAIq1POCz9X3UFYyBXcy_duie66fnSoPsELaPMcrR"
      ],
      "metadata": {
        "colab": {
          "base_uri": "https://localhost:8080/"
        },
        "id": "ImdInW2A2UoF",
        "outputId": "62c5ac50-bd9e-4970-fb7a-6cfbb5ebcb8b"
      },
      "execution_count": 52,
      "outputs": [
        {
          "output_type": "stream",
          "name": "stdout",
          "text": [
            "Authtoken saved to configuration file: /root/.ngrok2/ngrok.yml\n"
          ]
        }
      ]
    },
    {
      "cell_type": "code",
      "source": [
        "public_url = ngrok.connect(port='80')\n",
        "print (public_url)\n",
        "!streamlit run --server.port 80 app.py >/dev/null"
      ],
      "metadata": {
        "colab": {
          "base_uri": "https://localhost:8080/"
        },
        "id": "1jV6ht0K2Yzs",
        "outputId": "7a582e4c-6738-48a5-809d-2df9e4156689"
      },
      "execution_count": null,
      "outputs": [
        {
          "output_type": "stream",
          "name": "stdout",
          "text": [
            "NgrokTunnel: \"http://f1f9-104-196-0-75.ngrok.io\" -> \"http://localhost:80\"\n",
            "2022-04-17 02:15:53.854 INFO    numexpr.utils: NumExpr defaulting to 2 threads.\n"
          ]
        }
      ]
    }
  ],
  "metadata": {
    "accelerator": "GPU",
    "colab": {
      "collapsed_sections": [],
      "name": "HackTJ2022.ipynb",
      "provenance": []
    },
    "kernelspec": {
      "display_name": "Python 3",
      "name": "python3"
    },
    "language_info": {
      "name": "python"
    }
  },
  "nbformat": 4,
  "nbformat_minor": 0
}